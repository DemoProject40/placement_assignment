{
 "cells": [
  {
   "cell_type": "code",
   "execution_count": 2,
   "id": "23138e77",
   "metadata": {},
   "outputs": [
    {
     "name": "stdout",
     "output_type": "stream",
     "text": [
      "The mean scores of the students are the same.\n"
     ]
    }
   ],
   "source": [
    "import scipy.stats as stats\n",
    "\n",
    "# Exam 1 scores\n",
    "exam1_scores = [85, 75, 90, 75, 95]\n",
    "\n",
    "# Exam 2 scores\n",
    "exam2_scores = [90, 80, 85, 90, 92]\n",
    "\n",
    "# Perform a two-sample t-test\n",
    "t_stat, p_value = stats.ttest_ind(exam1_scores, exam2_scores)\n",
    "\n",
    "# Compare p-value with significance level (e.g., 0.05)\n",
    "alpha = 0.05\n",
    "if p_value < alpha:\n",
    "    print(\"The mean scores of the students are different.\")\n",
    "    \n",
    "    # Find the student with the highest score\n",
    "    highest_score = max(exam1_scores + exam2_scores)\n",
    "    print(\"The student with the highest score is:\", highest_score)\n",
    "else:\n",
    "    print(\"The mean scores of the students are the same.\")\n"
   ]
  },
  {
   "cell_type": "code",
   "execution_count": null,
   "id": "26f9e5a8",
   "metadata": {},
   "outputs": [],
   "source": []
  }
 ],
 "metadata": {
  "kernelspec": {
   "display_name": "Python 3 (ipykernel)",
   "language": "python",
   "name": "python3"
  },
  "language_info": {
   "codemirror_mode": {
    "name": "ipython",
    "version": 3
   },
   "file_extension": ".py",
   "mimetype": "text/x-python",
   "name": "python",
   "nbconvert_exporter": "python",
   "pygments_lexer": "ipython3",
   "version": "3.10.9"
  }
 },
 "nbformat": 4,
 "nbformat_minor": 5
}
