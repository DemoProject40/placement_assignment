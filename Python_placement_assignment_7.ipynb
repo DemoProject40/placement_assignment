{
 "cells": [
  {
   "cell_type": "code",
   "execution_count": 3,
   "id": "09de54bc",
   "metadata": {},
   "outputs": [
    {
     "ename": "ValueError",
     "evalue": "invalid literal for int() with base 10: '1880-01-01T00:00:00.000'",
     "output_type": "error",
     "traceback": [
      "\u001b[1;31m---------------------------------------------------------------------------\u001b[0m",
      "\u001b[1;31mValueError\u001b[0m                                Traceback (most recent call last)",
      "Cell \u001b[1;32mIn[3], line 70\u001b[0m\n\u001b[0;32m     67\u001b[0m     \u001b[38;5;28mprint\u001b[39m(\u001b[38;5;124m\"\u001b[39m\u001b[38;5;124mData saved as\u001b[39m\u001b[38;5;124m\"\u001b[39m, output_file)\n\u001b[0;32m     69\u001b[0m \u001b[38;5;28;01mif\u001b[39;00m \u001b[38;5;18m__name__\u001b[39m \u001b[38;5;241m==\u001b[39m \u001b[38;5;124m\"\u001b[39m\u001b[38;5;124m__main__\u001b[39m\u001b[38;5;124m\"\u001b[39m:\n\u001b[1;32m---> 70\u001b[0m     \u001b[43mmain\u001b[49m\u001b[43m(\u001b[49m\u001b[43m)\u001b[49m\n",
      "Cell \u001b[1;32mIn[3], line 53\u001b[0m, in \u001b[0;36mmain\u001b[1;34m()\u001b[0m\n\u001b[0;32m     50\u001b[0m convert_to_csv(data, output_file)\n\u001b[0;32m     52\u001b[0m \u001b[38;5;66;03m# Filter data for meteorites that fell before the year 2000\u001b[39;00m\n\u001b[1;32m---> 53\u001b[0m meteorites_before_2000 \u001b[38;5;241m=\u001b[39m \u001b[43mfilter_by_year\u001b[49m\u001b[43m(\u001b[49m\u001b[43mdata\u001b[49m\u001b[43m,\u001b[49m\u001b[43m \u001b[49m\u001b[38;5;241;43m2000\u001b[39;49m\u001b[43m)\u001b[49m\n\u001b[0;32m     55\u001b[0m \u001b[38;5;66;03m# Filter data for meteorites that fell before the year 1970\u001b[39;00m\n\u001b[0;32m     56\u001b[0m meteorites_before_1970 \u001b[38;5;241m=\u001b[39m filter_by_year(data, \u001b[38;5;241m1970\u001b[39m)\n",
      "Cell \u001b[1;32mIn[3], line 22\u001b[0m, in \u001b[0;36mfilter_by_year\u001b[1;34m(data, year)\u001b[0m\n\u001b[0;32m     21\u001b[0m \u001b[38;5;28;01mdef\u001b[39;00m \u001b[38;5;21mfilter_by_year\u001b[39m(data, year):\n\u001b[1;32m---> 22\u001b[0m     \u001b[38;5;28;01mreturn\u001b[39;00m [item \u001b[38;5;28;01mfor\u001b[39;00m item \u001b[38;5;129;01min\u001b[39;00m data \u001b[38;5;28;01mif\u001b[39;00m item\u001b[38;5;241m.\u001b[39mget(\u001b[38;5;124m'\u001b[39m\u001b[38;5;124myear\u001b[39m\u001b[38;5;124m'\u001b[39m) \u001b[38;5;129;01mand\u001b[39;00m \u001b[38;5;28mint\u001b[39m(item[\u001b[38;5;124m'\u001b[39m\u001b[38;5;124myear\u001b[39m\u001b[38;5;124m'\u001b[39m]) \u001b[38;5;241m<\u001b[39m year]\n",
      "Cell \u001b[1;32mIn[3], line 22\u001b[0m, in \u001b[0;36m<listcomp>\u001b[1;34m(.0)\u001b[0m\n\u001b[0;32m     21\u001b[0m \u001b[38;5;28;01mdef\u001b[39;00m \u001b[38;5;21mfilter_by_year\u001b[39m(data, year):\n\u001b[1;32m---> 22\u001b[0m     \u001b[38;5;28;01mreturn\u001b[39;00m [item \u001b[38;5;28;01mfor\u001b[39;00m item \u001b[38;5;129;01min\u001b[39;00m data \u001b[38;5;28;01mif\u001b[39;00m item\u001b[38;5;241m.\u001b[39mget(\u001b[38;5;124m'\u001b[39m\u001b[38;5;124myear\u001b[39m\u001b[38;5;124m'\u001b[39m) \u001b[38;5;129;01mand\u001b[39;00m \u001b[38;5;28;43mint\u001b[39;49m\u001b[43m(\u001b[49m\u001b[43mitem\u001b[49m\u001b[43m[\u001b[49m\u001b[38;5;124;43m'\u001b[39;49m\u001b[38;5;124;43myear\u001b[39;49m\u001b[38;5;124;43m'\u001b[39;49m\u001b[43m]\u001b[49m\u001b[43m)\u001b[49m \u001b[38;5;241m<\u001b[39m year]\n",
      "\u001b[1;31mValueError\u001b[0m: invalid literal for int() with base 10: '1880-01-01T00:00:00.000'"
     ]
    }
   ],
   "source": [
    "import requests\n",
    "import csv\n",
    "import matplotlib.pyplot as plt\n",
    "\n",
    "def download_data(url):\n",
    "    response = requests.get(url)\n",
    "    response.raise_for_status()\n",
    "    return response.json()\n",
    "\n",
    "def convert_to_csv(data, output_file):\n",
    "    field_names = set()\n",
    "    for item in data:\n",
    "        field_names.update(item.keys())\n",
    "\n",
    "    with open(output_file, 'w', newline='', encoding='utf-8') as csv_file:\n",
    "        writer = csv.DictWriter(csv_file, fieldnames=field_names)\n",
    "        writer.writeheader()\n",
    "        for item in data:\n",
    "            writer.writerow(item)\n",
    "\n",
    "def filter_by_year(data, year):\n",
    "    return [item for item in data if item.get('year') and int(item['year']) < year]\n",
    "\n",
    "def filter_by_mass(data, mass):\n",
    "    return [item for item in data if item.get('mass (g)') and float(item['mass (g)']) > mass]\n",
    "\n",
    "def get_coordinates(data):\n",
    "    latitudes = []\n",
    "    longitudes = []\n",
    "    for item in data:\n",
    "        if item.get('reclat') and item.get('reclong'):\n",
    "            latitudes.append(float(item['reclat']))\n",
    "            longitudes.append(float(item['reclong']))\n",
    "    return latitudes, longitudes\n",
    "\n",
    "def plot_coordinates(latitudes, longitudes, title):\n",
    "    plt.figure(figsize=(10, 6))\n",
    "    plt.scatter(longitudes, latitudes, s=10, color='blue')\n",
    "    plt.xlabel('Longitude')\n",
    "    plt.ylabel('Latitude')\n",
    "    plt.title(title)\n",
    "    plt.grid(True)\n",
    "    plt.show()\n",
    "\n",
    "def main():\n",
    "    url = \"https://data.nasa.gov/resource/y77d-th95.json\"\n",
    "    output_file = \"nasa_data.csv\"\n",
    "\n",
    "    data = download_data(url)\n",
    "    convert_to_csv(data, output_file)\n",
    "\n",
    "    # Filter data for meteorites that fell before the year 2000\n",
    "    meteorites_before_2000 = filter_by_year(data, 2000)\n",
    "\n",
    "    # Filter data for meteorites that fell before the year 1970\n",
    "    meteorites_before_1970 = filter_by_year(data, 1970)\n",
    "\n",
    "    # Filter data for meteorites with a mass greater than 10000 kg\n",
    "    meteorites_mass_gt_10000kg = filter_by_mass(data, 10000)\n",
    "\n",
    "    # Get coordinates for meteorites that fell before the year 1970\n",
    "    coordinates_before_1970 = get_coordinates(meteorites_before_1970)\n",
    "\n",
    "    # Plot coordinates for meteorites that fell before the year 1970\n",
    "    plot_coordinates(*coordinates_before_1970, title='Meteorites Fell Before 1970')\n",
    "\n",
    "    print(\"Data saved as\", output_file)\n",
    "\n",
    "if __name__ == \"__main__\":\n",
    "    main()\n"
   ]
  },
  {
   "cell_type": "code",
   "execution_count": null,
   "id": "3efe7d7b",
   "metadata": {},
   "outputs": [],
   "source": []
  },
  {
   "cell_type": "code",
   "execution_count": null,
   "id": "d289fff5",
   "metadata": {},
   "outputs": [],
   "source": []
  }
 ],
 "metadata": {
  "kernelspec": {
   "display_name": "Python 3 (ipykernel)",
   "language": "python",
   "name": "python3"
  },
  "language_info": {
   "codemirror_mode": {
    "name": "ipython",
    "version": 3
   },
   "file_extension": ".py",
   "mimetype": "text/x-python",
   "name": "python",
   "nbconvert_exporter": "python",
   "pygments_lexer": "ipython3",
   "version": "3.10.9"
  }
 },
 "nbformat": 4,
 "nbformat_minor": 5
}
