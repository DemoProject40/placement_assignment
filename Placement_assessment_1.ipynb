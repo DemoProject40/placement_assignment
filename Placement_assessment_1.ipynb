{
 "cells": [
  {
   "cell_type": "code",
   "execution_count": 7,
   "id": "f1cb0baf",
   "metadata": {},
   "outputs": [],
   "source": [
    "from collections import Counter"
   ]
  },
  {
   "cell_type": "code",
   "execution_count": 8,
   "id": "1d38e2e0",
   "metadata": {},
   "outputs": [],
   "source": [
    "words = \"write write write all the number from from from from from 1 1 to 100\""
   ]
  },
  {
   "cell_type": "code",
   "execution_count": 9,
   "id": "697f46c8",
   "metadata": {},
   "outputs": [
    {
     "name": "stdout",
     "output_type": "stream",
     "text": [
      "[('from', 5), ('write', 3), ('1', 2), ('all', 1), ('the', 1), ('number', 1), ('to', 1), ('100', 1)]\n"
     ]
    }
   ],
   "source": [
    "counts = Counter(words.split(\" \"))\n",
    "most_frequent = counts.most_common()\n",
    "print(most_frequent)"
   ]
  },
  {
   "cell_type": "code",
   "execution_count": 10,
   "id": "992a4c4b",
   "metadata": {},
   "outputs": [
    {
     "name": "stdout",
     "output_type": "stream",
     "text": [
      "Most_Frequent ('from', 5)\n"
     ]
    }
   ],
   "source": [
    "print(\"Most_Frequent\",most_frequent[0])"
   ]
  },
  {
   "cell_type": "code",
   "execution_count": null,
   "id": "736cb9cf",
   "metadata": {},
   "outputs": [],
   "source": []
  },
  {
   "cell_type": "code",
   "execution_count": null,
   "id": "53ffc276",
   "metadata": {},
   "outputs": [],
   "source": []
  }
 ],
 "metadata": {
  "kernelspec": {
   "display_name": "Python 3 (ipykernel)",
   "language": "python",
   "name": "python3"
  },
  "language_info": {
   "codemirror_mode": {
    "name": "ipython",
    "version": 3
   },
   "file_extension": ".py",
   "mimetype": "text/x-python",
   "name": "python",
   "nbconvert_exporter": "python",
   "pygments_lexer": "ipython3",
   "version": "3.10.9"
  }
 },
 "nbformat": 4,
 "nbformat_minor": 5
}
