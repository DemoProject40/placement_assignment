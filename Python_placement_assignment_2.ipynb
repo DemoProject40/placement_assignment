{
 "cells": [
  {
   "cell_type": "code",
   "execution_count": 4,
   "id": "2905e007",
   "metadata": {},
   "outputs": [
    {
     "name": "stdout",
     "output_type": "stream",
     "text": [
      "YES\n"
     ]
    }
   ],
   "source": [
    "def isValid(s):\n",
    "    arr=[0 for i in range(26)]\n",
    "    for i in s:\n",
    "        arr[ord(i)-97]+=1\n",
    "    xset=set(arr)\n",
    "    xset.discard(0)\n",
    "    if len(xset)==1:\n",
    "        return \"YES\"\n",
    "    elif len(xset)==2:  \n",
    "        a,b=xset.pop(),xset.pop()\n",
    "        if (abs(b-a)==1 or a==1) and arr.count(a)==1:\n",
    "            return \"YES\"\n",
    "        elif (abs(b-a)==1 or b==1) and arr.count(b)==1:\n",
    "            return \"YES\"\n",
    "        else:\n",
    "            return \"NO\"\n",
    "    else:              \n",
    "        return \"NO\"\n",
    "    \n",
    "print(isValid('abbcc'))"
   ]
  },
  {
   "cell_type": "code",
   "execution_count": null,
   "id": "8ecf2f2a",
   "metadata": {},
   "outputs": [],
   "source": []
  }
 ],
 "metadata": {
  "kernelspec": {
   "display_name": "Python 3 (ipykernel)",
   "language": "python",
   "name": "python3"
  },
  "language_info": {
   "codemirror_mode": {
    "name": "ipython",
    "version": 3
   },
   "file_extension": ".py",
   "mimetype": "text/x-python",
   "name": "python",
   "nbconvert_exporter": "python",
   "pygments_lexer": "ipython3",
   "version": "3.10.9"
  }
 },
 "nbformat": 4,
 "nbformat_minor": 5
}
