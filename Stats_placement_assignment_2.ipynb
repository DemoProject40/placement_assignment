{
 "cells": [
  {
   "cell_type": "code",
   "execution_count": 2,
   "id": "856df651",
   "metadata": {},
   "outputs": [],
   "source": [
    "#Q-2. Consider a dataset containing the heights (in centimeters) of 1000 individuals. The mean height is 170 cm with a standard deviation \n",
    "# of 10 cm. The dataset is approximately normally distributed, and its skewness is approximately zero. Based on this information, answer \n",
    "# the following questions:\n",
    "#a. What percentage of individuals in the dataset have heights between 160 cm and 180 cm?\n",
    "#b. If we randomly select 100 individuals from the dataset, what is the probability that their average height is greater than 175 cm?\n",
    "#c. Assuming the dataset follows a normal distribution, what is the z-score corresponding to a height of 185 cm?\n",
    "#d. We know that 5% of the dataset has heights below a certain value. What is the approximate height corresponding to this threshold?\n",
    "#e. Calculate the coefficient of variation (CV) for the dataset.\n",
    "#f. Calculate the skewness of the dataset and interpret the result.\n"
   ]
  },
  {
   "cell_type": "code",
   "execution_count": 19,
   "id": "77b6c74e",
   "metadata": {},
   "outputs": [
    {
     "name": "stdout",
     "output_type": "stream",
     "text": [
      "Z1 = -1.0\n",
      "Z2 = 1.0\n",
      "value = 68.26\n"
     ]
    }
   ],
   "source": [
    "# ans : What percentage of individuals in the dataset have heights between 160 cm and 180 cm?\n",
    "x1 = 160\n",
    "x2 = 180\n",
    "μ = 170\n",
    "σ = 10\n",
    "\n",
    "z1 = (x1- μ)/σ\n",
    "print(\"Z1 =\", z1)\n",
    "z2 = (x2 - μ)/σ\n",
    "print(\"Z2 =\", z2)\n",
    "\n",
    "# We calculated the percentile for z = -1.0 above 15.87%. Using the same method, the percentile for\n",
    "# z = 1.0 is 84.13%. Now we subtract the percentiles.\n",
    "\n",
    "difference = 84.13 - 15.87\n",
    "print(\"value =\",round(difference,3))"
   ]
  },
  {
   "cell_type": "code",
   "execution_count": 24,
   "id": "2c9b6d48",
   "metadata": {},
   "outputs": [
    {
     "name": "stdout",
     "output_type": "stream",
     "text": [
      "Z = 0.5\n",
      "The Z-score value is 0.5 and the area is 30.85\n"
     ]
    }
   ],
   "source": [
    "#Ans = If we randomly select 100 individuals from the dataset, what is the probability that their average height is greater than\n",
    "# 175 cm?\n",
    "\n",
    "x = 175\n",
    "μ = 170\n",
    "σ = 10\n",
    "\n",
    "z = (x - μ)/σ\n",
    "print(\"Z =\", z)\n",
    "\n",
    "# Using Z-score table find the value of area under the curve\n",
    "value = 69.15\n",
    "\n",
    "# we need to find greater than. So, we need to suntract the over all area\n",
    "area = 100 - value \n",
    "print(f'The Z-score value is {z} and the area is {round(area,3)}')"
   ]
  },
  {
   "cell_type": "code",
   "execution_count": 26,
   "id": "8b6306cf",
   "metadata": {},
   "outputs": [
    {
     "name": "stdout",
     "output_type": "stream",
     "text": [
      "Z = 1.5\n",
      "The Z-score value is 1.5 and the area is 93.32\n"
     ]
    }
   ],
   "source": [
    "#Ans = Assuming the dataset follows a normal distribution, what is the z-score corresponding to a height of 185 cm?\n",
    "\n",
    "x = 185\n",
    "μ = 170\n",
    "σ = 10\n",
    "\n",
    "z = (x - μ)/σ\n",
    "print(\"Z =\", z)\n",
    "\n",
    "# Using Z-score table find the value of area under the curve\n",
    "value = 93.32\n",
    "\n",
    "print(f'The Z-score value is {z} and the area is {round(value,3)}')"
   ]
  },
  {
   "cell_type": "code",
   "execution_count": 2,
   "id": "c4dbcc41",
   "metadata": {},
   "outputs": [],
   "source": [
    "#Q - We know that 5% of the dataset has heights below a certain value. What is the approximate height corresponding to this \n",
    "# threshold?\n",
    "'''- Ans - At a level of significance of 0.05, zα = − 1.96 and zα = 1.96 for a two-tailed test. Thus, our acceptance region is \n",
    "# [− 1.96, 1.96] of the standard normal distribution.'''\n"
   ]
  },
  {
   "cell_type": "code",
   "execution_count": 33,
   "id": "770dc04e",
   "metadata": {},
   "outputs": [
    {
     "name": "stdout",
     "output_type": "stream",
     "text": [
      "coefficient of variation = 17.0\n"
     ]
    }
   ],
   "source": [
    "# Q - Calculate the coefficient of variation (CV) for the dataset.\n",
    "#Ans : \n",
    "μ = 170\n",
    "σ = 10\n",
    "\n",
    "CV = μ / σ\n",
    "\n",
    "print(\"coefficient of variation =\",CV)\n",
    "\n"
   ]
  },
  {
   "cell_type": "code",
   "execution_count": 36,
   "id": "b2942ea9",
   "metadata": {},
   "outputs": [
    {
     "name": "stdout",
     "output_type": "stream",
     "text": [
      "Skewness = 1.5\n"
     ]
    }
   ],
   "source": [
    "# Q - Calculate the skewness of the dataset and interpret the result.\n",
    "# Ans - \n",
    "mean = 170\n",
    "median = 165\n",
    "standard_deviation = 10\n",
    "Skewness = 3*(mean-median)/standard_deviation\n",
    "\n",
    "print(\"Skewness =\",Skewness)\n"
   ]
  },
  {
   "cell_type": "code",
   "execution_count": null,
   "id": "e2533763",
   "metadata": {},
   "outputs": [],
   "source": []
  }
 ],
 "metadata": {
  "kernelspec": {
   "display_name": "Python 3 (ipykernel)",
   "language": "python",
   "name": "python3"
  },
  "language_info": {
   "codemirror_mode": {
    "name": "ipython",
    "version": 3
   },
   "file_extension": ".py",
   "mimetype": "text/x-python",
   "name": "python",
   "nbconvert_exporter": "python",
   "pygments_lexer": "ipython3",
   "version": "3.10.9"
  }
 },
 "nbformat": 4,
 "nbformat_minor": 5
}
