{
 "cells": [
  {
   "cell_type": "code",
   "execution_count": 1,
   "id": "23138e77",
   "metadata": {},
   "outputs": [],
   "source": [
    "import pandas as pd\n",
    "import numpy as np"
   ]
  },
  {
   "cell_type": "code",
   "execution_count": 2,
   "id": "da1c1988",
   "metadata": {},
   "outputs": [],
   "source": [
    "df = pd.read_csv('pharmaceutical .csv',names = ['Patient_ID','blood_pressure_before','blood_pressure_after'])"
   ]
  },
  {
   "cell_type": "code",
   "execution_count": 3,
   "id": "b156041b",
   "metadata": {},
   "outputs": [
    {
     "data": {
      "text/html": [
       "<div>\n",
       "<style scoped>\n",
       "    .dataframe tbody tr th:only-of-type {\n",
       "        vertical-align: middle;\n",
       "    }\n",
       "\n",
       "    .dataframe tbody tr th {\n",
       "        vertical-align: top;\n",
       "    }\n",
       "\n",
       "    .dataframe thead th {\n",
       "        text-align: right;\n",
       "    }\n",
       "</style>\n",
       "<table border=\"1\" class=\"dataframe\">\n",
       "  <thead>\n",
       "    <tr style=\"text-align: right;\">\n",
       "      <th></th>\n",
       "      <th>Patient_ID</th>\n",
       "      <th>blood_pressure_before</th>\n",
       "      <th>blood_pressure_after</th>\n",
       "    </tr>\n",
       "  </thead>\n",
       "  <tbody>\n",
       "    <tr>\n",
       "      <th>0</th>\n",
       "      <td>Patient ID</td>\n",
       "      <td>Blood Pressure Before (mmHg)</td>\n",
       "      <td>Blood Pressure After (mmHg)</td>\n",
       "    </tr>\n",
       "    <tr>\n",
       "      <th>1</th>\n",
       "      <td>1</td>\n",
       "      <td>130</td>\n",
       "      <td>120</td>\n",
       "    </tr>\n",
       "    <tr>\n",
       "      <th>2</th>\n",
       "      <td>2</td>\n",
       "      <td>142</td>\n",
       "      <td>135</td>\n",
       "    </tr>\n",
       "    <tr>\n",
       "      <th>3</th>\n",
       "      <td>3</td>\n",
       "      <td>120</td>\n",
       "      <td>118</td>\n",
       "    </tr>\n",
       "    <tr>\n",
       "      <th>4</th>\n",
       "      <td>4</td>\n",
       "      <td>135</td>\n",
       "      <td>127</td>\n",
       "    </tr>\n",
       "    <tr>\n",
       "      <th>...</th>\n",
       "      <td>...</td>\n",
       "      <td>...</td>\n",
       "      <td>...</td>\n",
       "    </tr>\n",
       "    <tr>\n",
       "      <th>96</th>\n",
       "      <td>96</td>\n",
       "      <td>136</td>\n",
       "      <td>129</td>\n",
       "    </tr>\n",
       "    <tr>\n",
       "      <th>97</th>\n",
       "      <td>97</td>\n",
       "      <td>143</td>\n",
       "      <td>137</td>\n",
       "    </tr>\n",
       "    <tr>\n",
       "      <th>98</th>\n",
       "      <td>98</td>\n",
       "      <td>127</td>\n",
       "      <td>123</td>\n",
       "    </tr>\n",
       "    <tr>\n",
       "      <th>99</th>\n",
       "      <td>99</td>\n",
       "      <td>139</td>\n",
       "      <td>135</td>\n",
       "    </tr>\n",
       "    <tr>\n",
       "      <th>100</th>\n",
       "      <td>100</td>\n",
       "      <td>135</td>\n",
       "      <td>130</td>\n",
       "    </tr>\n",
       "  </tbody>\n",
       "</table>\n",
       "<p>101 rows × 3 columns</p>\n",
       "</div>"
      ],
      "text/plain": [
       "     Patient_ID          blood_pressure_before          blood_pressure_after\n",
       "0    Patient ID   Blood Pressure Before (mmHg)   Blood Pressure After (mmHg)\n",
       "1             1                            130                           120\n",
       "2             2                            142                           135\n",
       "3             3                            120                           118\n",
       "4             4                            135                           127\n",
       "..          ...                            ...                           ...\n",
       "96           96                            136                           129\n",
       "97           97                            143                           137\n",
       "98           98                            127                           123\n",
       "99           99                            139                           135\n",
       "100         100                            135                           130\n",
       "\n",
       "[101 rows x 3 columns]"
      ]
     },
     "execution_count": 3,
     "metadata": {},
     "output_type": "execute_result"
    }
   ],
   "source": [
    "df"
   ]
  },
  {
   "cell_type": "code",
   "execution_count": 4,
   "id": "fbf3e5b7",
   "metadata": {},
   "outputs": [],
   "source": [
    "df.drop(labels=0, axis=0,inplace = True)"
   ]
  },
  {
   "cell_type": "markdown",
   "id": "fcfbf3cf",
   "metadata": {},
   "source": [
    "## a). Measure the dispersion in both and interpret the results."
   ]
  },
  {
   "cell_type": "code",
   "execution_count": 5,
   "id": "a47b5956",
   "metadata": {},
   "outputs": [],
   "source": [
    "df.blood_pressure_before = df.blood_pressure_before.astype(int)\n",
    "df.blood_pressure_after = df.blood_pressure_after.astype(int)"
   ]
  },
  {
   "cell_type": "code",
   "execution_count": 6,
   "id": "7c6f71d6",
   "metadata": {},
   "outputs": [
    {
     "name": "stdout",
     "output_type": "stream",
     "text": [
      "Dispersion in Blood Pressure Before:\n",
      "Range: 28\n",
      "Variance: 43.10189999999998\n",
      "Standard Deviation: 6.5652037287505385\n",
      "========================================\n",
      "\n",
      "Dispersion in Blood Pressure After:\n",
      "Range: 23\n",
      "Variance: 46.97040000000002\n",
      "Standard Deviation: 6.853495458523338\n"
     ]
    }
   ],
   "source": [
    "#range\n",
    "before_range = int(np.max(df.blood_pressure_before)) - int(np.min(df.blood_pressure_before))\n",
    "after_range = int(np.max(df.blood_pressure_after)) - int(np.min(df.blood_pressure_after))\n",
    "\n",
    "# Variance\n",
    "before_variance = np.var(df.blood_pressure_before)\n",
    "after_variance = np.var(df.blood_pressure_after)\n",
    "\n",
    "# Standard Deviation\n",
    "before_std = np.std(df.blood_pressure_before)\n",
    "after_std = np.std(df.blood_pressure_after)\n",
    "\n",
    "# Interpretation of results\n",
    "print(\"Dispersion in Blood Pressure Before:\")\n",
    "print(\"Range:\", before_range)\n",
    "print(\"Variance:\", before_variance)\n",
    "print(\"Standard Deviation:\", before_std)\n",
    "print('='*40)\n",
    "print(\"\\nDispersion in Blood Pressure After:\")\n",
    "print(\"Range:\", after_range)\n",
    "print(\"Variance:\", after_variance)\n",
    "print(\"Standard Deviation:\", after_std)"
   ]
  },
  {
   "cell_type": "markdown",
   "id": "bbad6e5f",
   "metadata": {},
   "source": [
    "## b). Calculate the mean and 5% confidence interval and plot it in a graph"
   ]
  },
  {
   "cell_type": "code",
   "execution_count": 7,
   "id": "3ea1791b",
   "metadata": {},
   "outputs": [],
   "source": [
    "import matplotlib.pyplot as plt"
   ]
  },
  {
   "cell_type": "code",
   "execution_count": 8,
   "id": "a29389dd",
   "metadata": {},
   "outputs": [
    {
     "data": {
      "image/png": "[encoded data removed]",
      "text/plain": [
       "<Figure size 640x480 with 1 Axes>"
      ]
     },
     "metadata": {},
     "output_type": "display_data"
    },
    {
     "name": "stdout",
     "output_type": "stream",
     "text": [
      "Mean of Blood Pressure Before: 133.91\n",
      "5% Confidence Interval (Blood Pressure Before): 132.6232200691649 - 135.1967799308351\n"
     ]
    }
   ],
   "source": [
    "# calculate mean \n",
    "before_mean = np.mean(df.blood_pressure_before)\n",
    "\n",
    "# Calculate standard error (SE)\n",
    "before_se = np.std(df.blood_pressure_before) / np.sqrt(len(df.blood_pressure_before))\n",
    "\n",
    "# Calculate margin of error (MOE) for a 5% confidence level\n",
    "before_moe = before_se * 1.96  # 1.96 is the z-score for a 5% confidence interval\n",
    "\n",
    "# Calculate confidence interval\n",
    "before_ci_lower = before_mean - before_moe\n",
    "before_ci_upper = before_mean + before_moe\n",
    "\n",
    "# Plotting\n",
    "plt.bar(\"Blood Pressure Before\", before_mean, yerr=before_moe, capsize=10, color='blue')\n",
    "plt.ylim([0, np.max(df.blood_pressure_before) + 10])\n",
    "plt.ylabel(\"Blood Pressure\")\n",
    "plt.title(\"Mean and 5% Confidence Interval (Blood Pressure Before)\")\n",
    "plt.show()\n",
    "\n",
    "# Print mean and confidence interval\n",
    "print(\"Mean of Blood Pressure Before:\", before_mean)\n",
    "print(\"5% Confidence Interval (Blood Pressure Before):\", before_ci_lower, \"-\", before_ci_upper)"
   ]
  },
  {
   "cell_type": "markdown",
   "id": "76e7a809",
   "metadata": {},
   "source": [
    "## c). Calculate the Mean absolute deviation and Standard deviation and interpret the results"
   ]
  },
  {
   "cell_type": "code",
   "execution_count": 10,
   "id": "1c0a67d2",
   "metadata": {},
   "outputs": [
    {
     "name": "stdout",
     "output_type": "stream",
     "text": [
      "Mean Absolute Deviation (MAD): 5.7118\n",
      "Standard Deviation (SD): 6.5652037287505385\n"
     ]
    }
   ],
   "source": [
    "# Calculate Mean Absolute Deviation (MAD)\n",
    "mad = np.mean(np.abs(df.blood_pressure_before - np.mean(df.blood_pressure_before)))\n",
    "\n",
    "# Calculate Standard Deviation (SD)\n",
    "sd = np.std(df.blood_pressure_before)\n",
    "\n",
    "# Interpretation of results\n",
    "print(\"Mean Absolute Deviation (MAD):\", mad)\n",
    "print(\"Standard Deviation (SD):\", sd)\n"
   ]
  },
  {
   "cell_type": "markdown",
   "id": "3a9c2e1f",
   "metadata": {},
   "source": [
    "## d). Calculate the correlation coefficient and check the significance of it at 1% level of significance."
   ]
  },
  {
   "cell_type": "code",
   "execution_count": 11,
   "id": "2b6f23a3",
   "metadata": {},
   "outputs": [
    {
     "name": "stdout",
     "output_type": "stream",
     "text": [
      "Correlation coefficient is significant at a 1% level of significance.\n",
      "Correlation coefficient: 0.9779485966556027\n"
     ]
    }
   ],
   "source": [
    "from scipy.stats import pearsonr\n",
    "\n",
    "# Assuming you have two datasets 'x' and 'y'\n",
    "x = df.blood_pressure_before\n",
    "y = df.blood_pressure_after\n",
    "# Calculate the correlation coefficient (Pearson's correlation)\n",
    "corr_coeff, p_value = pearsonr(x, y)\n",
    "\n",
    "# Check significance at a 1% level of significance\n",
    "alpha = 0.01\n",
    "\n",
    "if p_value < alpha:\n",
    "    print(\"Correlation coefficient is significant at a 1% level of significance.\")\n",
    "else:\n",
    "    print(\"Correlation coefficient is not significant at a 1% level of significance.\")\n",
    "\n",
    "# Print the correlation coefficient\n",
    "print(\"Correlation coefficient:\", corr_coeff)"
   ]
  },
  {
   "cell_type": "code",
   "execution_count": null,
   "id": "6b6d1931",
   "metadata": {},
   "outputs": [],
   "source": []
  },
  {
   "cell_type": "code",
   "execution_count": null,
   "id": "93f3ccc8",
   "metadata": {},
   "outputs": [],
   "source": []
  }
 ],
 "metadata": {
  "kernelspec": {
   "display_name": "Python 3 (ipykernel)",
   "language": "python",
   "name": "python3"
  },
  "language_info": {
   "codemirror_mode": {
    "name": "ipython",
    "version": 3
   },
   "file_extension": ".py",
   "mimetype": "text/x-python",
   "name": "python",
   "nbconvert_exporter": "python",
   "pygments_lexer": "ipython3",
   "version": "3.10.9"
  }
 },
 "nbformat": 4,
 "nbformat_minor": 5
}
