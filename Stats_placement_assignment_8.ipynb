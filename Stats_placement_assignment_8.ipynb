{
 "cells": [
  {
   "cell_type": "code",
   "execution_count": 1,
   "id": "23138e77",
   "metadata": {},
   "outputs": [],
   "source": [
    "import pandas as pd\n",
    "import numpy as np"
   ]
  },
  {
   "cell_type": "code",
   "execution_count": 2,
   "id": "b156041b",
   "metadata": {},
   "outputs": [
    {
     "name": "stdout",
     "output_type": "stream",
     "text": [
      "Wilcoxon signed-rank test:\n",
      "Statistic: 0.0\n",
      "P-value: 0.001953125\n"
     ]
    }
   ],
   "source": [
    "from scipy.stats import wilcoxon\n",
    "import pandas as pd\n",
    "\n",
    "# Load the data\n",
    "before_scores = [10,8,12,15,6,9,11,7,14,10]\n",
    "after_scores = [7,6,10,12,5,8,9,6,12,8] \n",
    "\n",
    "\n",
    "# Perform the Wilcoxon signed-rank test\n",
    "statistic, p_value = wilcoxon(before_scores, after_scores)\n",
    "\n",
    "# Print the test results\n",
    "print(\"Wilcoxon signed-rank test:\")\n",
    "print(f\"Statistic: {statistic}\")\n",
    "print(f\"P-value: {p_value}\")\n"
   ]
  },
  {
   "cell_type": "code",
   "execution_count": null,
   "id": "d2383eec",
   "metadata": {},
   "outputs": [],
   "source": []
  },
  {
   "cell_type": "code",
   "execution_count": null,
   "id": "26f9e5a8",
   "metadata": {},
   "outputs": [],
   "source": []
  }
 ],
 "metadata": {
  "kernelspec": {
   "display_name": "Python 3 (ipykernel)",
   "language": "python",
   "name": "python3"
  },
  "language_info": {
   "codemirror_mode": {
    "name": "ipython",
    "version": 3
   },
   "file_extension": ".py",
   "mimetype": "text/x-python",
   "name": "python",
   "nbconvert_exporter": "python",
   "pygments_lexer": "ipython3",
   "version": "3.10.9"
  }
 },
 "nbformat": 4,
 "nbformat_minor": 5
}
