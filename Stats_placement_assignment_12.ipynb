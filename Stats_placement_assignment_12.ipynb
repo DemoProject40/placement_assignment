{
 "cells": [
  {
   "cell_type": "code",
   "execution_count": 1,
   "id": "23138e77",
   "metadata": {},
   "outputs": [],
   "source": [
    "import pandas as pd\n",
    "import numpy as np"
   ]
  },
  {
   "cell_type": "code",
   "execution_count": 8,
   "id": "da1c1988",
   "metadata": {},
   "outputs": [],
   "source": [
    "df = pd.read_csv('pharmaceutical .csv',names = ['Patient_ID','blood_pressure_before','blood_pressure_after'])"
   ]
  },
  {
   "cell_type": "code",
   "execution_count": 9,
   "id": "b156041b",
   "metadata": {},
   "outputs": [
    {
     "data": {
      "text/html": [
       "<div>\n",
       "<style scoped>\n",
       "    .dataframe tbody tr th:only-of-type {\n",
       "        vertical-align: middle;\n",
       "    }\n",
       "\n",
       "    .dataframe tbody tr th {\n",
       "        vertical-align: top;\n",
       "    }\n",
       "\n",
       "    .dataframe thead th {\n",
       "        text-align: right;\n",
       "    }\n",
       "</style>\n",
       "<table border=\"1\" class=\"dataframe\">\n",
       "  <thead>\n",
       "    <tr style=\"text-align: right;\">\n",
       "      <th></th>\n",
       "      <th>Patient_ID</th>\n",
       "      <th>blood_pressure_before</th>\n",
       "      <th>blood_pressure_after</th>\n",
       "    </tr>\n",
       "  </thead>\n",
       "  <tbody>\n",
       "    <tr>\n",
       "      <th>0</th>\n",
       "      <td>Patient ID</td>\n",
       "      <td>Blood Pressure Before (mmHg)</td>\n",
       "      <td>Blood Pressure After (mmHg)</td>\n",
       "    </tr>\n",
       "    <tr>\n",
       "      <th>1</th>\n",
       "      <td>1</td>\n",
       "      <td>130</td>\n",
       "      <td>120</td>\n",
       "    </tr>\n",
       "    <tr>\n",
       "      <th>2</th>\n",
       "      <td>2</td>\n",
       "      <td>142</td>\n",
       "      <td>135</td>\n",
       "    </tr>\n",
       "    <tr>\n",
       "      <th>3</th>\n",
       "      <td>3</td>\n",
       "      <td>120</td>\n",
       "      <td>118</td>\n",
       "    </tr>\n",
       "    <tr>\n",
       "      <th>4</th>\n",
       "      <td>4</td>\n",
       "      <td>135</td>\n",
       "      <td>127</td>\n",
       "    </tr>\n",
       "  </tbody>\n",
       "</table>\n",
       "</div>"
      ],
      "text/plain": [
       "   Patient_ID          blood_pressure_before          blood_pressure_after\n",
       "0  Patient ID   Blood Pressure Before (mmHg)   Blood Pressure After (mmHg)\n",
       "1           1                            130                           120\n",
       "2           2                            142                           135\n",
       "3           3                            120                           118\n",
       "4           4                            135                           127"
      ]
     },
     "execution_count": 9,
     "metadata": {},
     "output_type": "execute_result"
    }
   ],
   "source": [
    "df.head(5)"
   ]
  },
  {
   "cell_type": "code",
   "execution_count": 10,
   "id": "fbf3e5b7",
   "metadata": {},
   "outputs": [],
   "source": [
    "df.drop(labels=0, axis=0,inplace = True)\n",
    "\n",
    "df.blood_pressure_before = df.blood_pressure_before.astype(int)\n",
    "df.blood_pressure_after = df.blood_pressure_after.astype(int)"
   ]
  },
  {
   "cell_type": "markdown",
   "id": "6e824180",
   "metadata": {},
   "source": [
    "The company collects data from 30 patients in each group and calculates the mean improvement score and the standard deviation of improvement for each group. The mean improvement score for Group A is 2.5 with a standard deviation of 0.8, while the mean improvement score for Group B is 2.2 with a standard deviation of 0.6. Conduct a t-test to determine if there is a significant difference in the mean improvement scores between the two groups. Use a significance level of 0.05.\n",
    "Based on the t-test results, state whether the null hypothesis should be rejected or not. Provide a conclusion in the context of the study.\n"
   ]
  },
  {
   "cell_type": "code",
   "execution_count": 12,
   "id": "05102d11",
   "metadata": {},
   "outputs": [
    {
     "name": "stdout",
     "output_type": "stream",
     "text": [
      "Reject the null hypothesis\n",
      "There is a significant difference in the mean improvement scores between the two groups.\n"
     ]
    },
    {
     "name": "stderr",
     "output_type": "stream",
     "text": [
      "C:\\Users\\Indra\\AppData\\Local\\Temp\\ipykernel_16820\\2149763697.py:10: RuntimeWarning: Precision loss occurred in moment calculation due to catastrophic cancellation. This occurs when the data are nearly identical. Results may be unreliable.\n",
      "  t_statistic, p_value = stats.ttest_ind(group_a_scores, group_b_scores)\n"
     ]
    }
   ],
   "source": [
    "import scipy.stats as stats\n",
    "\n",
    "# Data for Group A\n",
    "group_a_scores = [2.5] * 30  # Assuming all patients in Group A had an improvement score of 2.5\n",
    "\n",
    "# Data for Group B\n",
    "group_b_scores = [2.2] * 30  # Assuming all patients in Group B had an improvement score of 2.2\n",
    "\n",
    "# Perform independent samples t-test\n",
    "t_statistic, p_value = stats.ttest_ind(group_a_scores, group_b_scores)\n",
    "\n",
    "# Compare p-value with significance level\n",
    "alpha = 0.05\n",
    "if p_value < alpha:\n",
    "    print(\"Reject the null hypothesis\")\n",
    "    print(\"There is a significant difference in the mean improvement scores between the two groups.\")\n",
    "else:\n",
    "    print(\"Fail to reject the null hypothesis\")\n",
    "    print(\"There is no significant difference in the mean improvement scores between the two groups.\")\n"
   ]
  },
  {
   "cell_type": "code",
   "execution_count": null,
   "id": "82f0decb",
   "metadata": {},
   "outputs": [],
   "source": []
  },
  {
   "cell_type": "code",
   "execution_count": null,
   "id": "400f58ef",
   "metadata": {},
   "outputs": [],
   "source": []
  },
  {
   "cell_type": "code",
   "execution_count": null,
   "id": "c5db777f",
   "metadata": {},
   "outputs": [],
   "source": []
  }
 ],
 "metadata": {
  "kernelspec": {
   "display_name": "Python 3 (ipykernel)",
   "language": "python",
   "name": "python3"
  },
  "language_info": {
   "codemirror_mode": {
    "name": "ipython",
    "version": 3
   },
   "file_extension": ".py",
   "mimetype": "text/x-python",
   "name": "python",
   "nbconvert_exporter": "python",
   "pygments_lexer": "ipython3",
   "version": "3.10.9"
  }
 },
 "nbformat": 4,
 "nbformat_minor": 5
}
