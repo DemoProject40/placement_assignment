{
 "cells": [
  {
   "cell_type": "code",
   "execution_count": 1,
   "id": "04af1a48",
   "metadata": {},
   "outputs": [
    {
     "name": "stdout",
     "output_type": "stream",
     "text": [
      "Show: Westworld\n",
      "\n",
      "Season 1, Episode 1: The Original\n",
      "Season 1, Episode 2: Chestnut\n",
      "Season 1, Episode 3: The Stray\n",
      "Season 1, Episode 4: Dissonance Theory\n",
      "Season 1, Episode 5: Contrapasso\n",
      "Season 1, Episode 6: The Adversary\n",
      "Season 1, Episode 7: Trompe L'Oeil\n",
      "Season 1, Episode 8: Trace Decay\n",
      "Season 1, Episode 9: The Well-Tempered Clavier\n",
      "Season 1, Episode 10: The Bicameral Mind\n",
      "Season 2, Episode 1: Journey Into Night\n",
      "Season 2, Episode 2: Reunion\n",
      "Season 2, Episode 3: Virtù e Fortuna\n",
      "Season 2, Episode 4: The Riddle of the Sphinx\n",
      "Season 2, Episode 5: Akane No Mai\n",
      "Season 2, Episode 6: Phase Space\n",
      "Season 2, Episode 7: Les Écorchés\n",
      "Season 2, Episode 8: Kiksuya\n",
      "Season 2, Episode 9: Vanishing Point\n",
      "Season 2, Episode 10: The Passenger\n",
      "Season 3, Episode 1: Parce Domine\n",
      "Season 3, Episode 2: The Winter Line\n",
      "Season 3, Episode 3: The Absence of Field\n",
      "Season 3, Episode 4: The Mother of Exiles\n",
      "Season 3, Episode 5: Genre\n",
      "Season 3, Episode 6: Decoherence\n",
      "Season 3, Episode 7: Passed Pawn\n",
      "Season 3, Episode 8: Crisis Theory\n",
      "Season 4, Episode 1: The Auguries\n",
      "Season 4, Episode 2: Well Enough Alone\n",
      "Season 4, Episode 3: Années Folles\n",
      "Season 4, Episode 4: Generation Loss\n",
      "Season 4, Episode 5: Zhuangzi\n",
      "Season 4, Episode 6: Fidelity\n",
      "Season 4, Episode 7: Metanoia\n",
      "Season 4, Episode 8: Que Será, Será\n"
     ]
    }
   ],
   "source": [
    "import requests\n",
    "\n",
    "def download_data(api_url):\n",
    "    response = requests.get(api_url)\n",
    "    if response.status_code == 200:\n",
    "        return response.json()\n",
    "    else:\n",
    "        return None\n",
    "\n",
    "def extract_episodes_data(show_data):\n",
    "    show_name = show_data.get('name')\n",
    "    episodes = show_data.get('_embedded', {}).get('episodes', [])\n",
    "    extracted_data = []\n",
    "\n",
    "    for episode in episodes:\n",
    "        season_number = episode.get('season')\n",
    "        episode_number = episode.get('number')\n",
    "        episode_name = episode.get('name')\n",
    "        extracted_data.append(f\"Season {season_number}, Episode {episode_number}: {episode_name}\")\n",
    "\n",
    "    return show_name, extracted_data\n",
    "\n",
    "api_link = \"http://api.tvmaze.com/singlesearch/shows?q=westworld&embed=episodes\"\n",
    "data = download_data(api_link)\n",
    "\n",
    "if data:\n",
    "    show_name, episodes_data = extract_episodes_data(data)\n",
    "    print(f\"Show: {show_name}\\n\")\n",
    "    for episode_data in episodes_data:\n",
    "        print(episode_data)\n",
    "else:\n",
    "    print(\"Failed to download data from the API.\")\n"
   ]
  },
  {
   "cell_type": "code",
   "execution_count": null,
   "id": "42e4e6ba",
   "metadata": {},
   "outputs": [],
   "source": []
  }
 ],
 "metadata": {
  "kernelspec": {
   "display_name": "Python 3 (ipykernel)",
   "language": "python",
   "name": "python3"
  },
  "language_info": {
   "codemirror_mode": {
    "name": "ipython",
    "version": 3
   },
   "file_extension": ".py",
   "mimetype": "text/x-python",
   "name": "python",
   "nbconvert_exporter": "python",
   "pygments_lexer": "ipython3",
   "version": "3.10.9"
  }
 },
 "nbformat": 4,
 "nbformat_minor": 5
}
