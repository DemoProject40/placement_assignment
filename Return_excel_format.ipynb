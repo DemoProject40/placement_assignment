{
 "cells": [
  {
   "cell_type": "code",
   "execution_count": 1,
   "id": "7e5d8992",
   "metadata": {},
   "outputs": [
    {
     "name": "stdout",
     "output_type": "stream",
     "text": [
      "Data exported successfully to 'pokemon_data.xlsx'.\n"
     ]
    }
   ],
   "source": [
    "import requests\n",
    "import pandas as pd\n",
    "\n",
    "# Step 1: Download the data from the provided link\n",
    "url = \"https://raw.githubusercontent.com/Biuni/PokemonGO-Pokedex/master/pokedex.json\"\n",
    "response = requests.get(url)\n",
    "data = response.json()\n",
    "\n",
    "# Step 2: Extract the required information from the downloaded data\n",
    "structured_data = []\n",
    "for entry in data[\"pokemon\"]:\n",
    "    pokemon_info = {\n",
    "        \"Name\": entry[\"name\"],\n",
    "        \"Number\": entry[\"num\"],\n",
    "        \"Type\": \", \".join(entry[\"type\"]),\n",
    "        \"Height\": entry[\"height\"],\n",
    "        \"Weight\": entry[\"weight\"],\n",
    "    }\n",
    "    structured_data.append(pokemon_info)\n",
    "\n",
    "# Step 3: Convert the structured data into a DataFrame\n",
    "df = pd.DataFrame(structured_data)\n",
    "\n",
    "# Step 4: Export the data to an Excel file\n",
    "output_file = \"pokemon_data.xlsx\"\n",
    "df.to_excel(output_file, index=False)\n",
    "print(f\"Data exported successfully to '{output_file}'.\")\n"
   ]
  },
  {
   "cell_type": "code",
   "execution_count": null,
   "id": "0ac13adf",
   "metadata": {},
   "outputs": [],
   "source": []
  }
 ],
 "metadata": {
  "kernelspec": {
   "display_name": "Python 3 (ipykernel)",
   "language": "python",
   "name": "python3"
  },
  "language_info": {
   "codemirror_mode": {
    "name": "ipython",
    "version": 3
   },
   "file_extension": ".py",
   "mimetype": "text/x-python",
   "name": "python",
   "nbconvert_exporter": "python",
   "pygments_lexer": "ipython3",
   "version": "3.10.9"
  }
 },
 "nbformat": 4,
 "nbformat_minor": 5
}
